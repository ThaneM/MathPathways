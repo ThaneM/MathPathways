{
 "cells": [
  {
   "cell_type": "code",
   "execution_count": 227,
   "metadata": {},
   "outputs": [],
   "source": [
    "import pandas as pd\n",
    "import numpy as np\n",
    "import matplotlib.pyplot as plt\n",
    "%matplotlib inline"
   ]
  },
  {
   "cell_type": "code",
   "execution_count": 228,
   "metadata": {},
   "outputs": [],
   "source": [
    "merged_df = pd.read_csv(\"conventionaldf.csv\")"
   ]
  },
  {
   "cell_type": "code",
   "execution_count": 229,
   "metadata": {},
   "outputs": [],
   "source": [
    "writer = pd.ExcelWriter('query_output.xlsx', engine='xlsxwriter')"
   ]
  },
  {
   "cell_type": "code",
   "execution_count": 230,
   "metadata": {},
   "outputs": [],
   "source": [
    "row_counter = 0"
   ]
  },
  {
   "cell_type": "markdown",
   "metadata": {},
   "source": [
    "Functions"
   ]
  },
  {
   "cell_type": "code",
   "execution_count": 232,
   "metadata": {},
   "outputs": [],
   "source": [
    "def format_countdf(df):\n",
    "    perc_df = df.div(df.sum(axis=1), axis=0)#*100\n",
    "    \n",
    "    grade_arr = ['A','B','C','D','F','W']\n",
    "    perc_df.fillna(0,inplace=True)\n",
    "    \n",
    "    grade_set = set(grade_arr)\n",
    "    diff = list(grade_set - set(perc_df.columns.values))\n",
    "    for letter in diff:\n",
    "        perc_df[letter] = 0\n",
    "    perc_df = perc_df[grade_arr]\n",
    "    \n",
    "    perc_df = perc_df.style.format(\"{:.1%}\")\n",
    "    \n",
    "    return perc_df"
   ]
  },
  {
   "cell_type": "code",
   "execution_count": 233,
   "metadata": {},
   "outputs": [],
   "source": [
    "def gradebygroup(df, group,row_counter):\n",
    "    grade_count = df.groupby([group,'grade_con'])['student_cid'].count()\n",
    "    gm_df = grade_count.unstack(level=-1)\n",
    "    #pd.set_option('precision', 1)\n",
    "    df = format_countdf(gm_df)\n",
    "    df.to_excel(writer, sheet_name='Sheet1', startrow = row_counter)\n",
    "    row_counter = row_counter + len(df.index) + 5\n",
    "    return row_counter"
   ]
  },
  {
   "cell_type": "code",
   "execution_count": 234,
   "metadata": {},
   "outputs": [],
   "source": [
    "def compare_grades(df, course_list,row_counter):\n",
    "    #List of students in listed courses\n",
    "    student_set = set(df.student_cid.values)\n",
    "    len_array = []\n",
    "    for course in course_list:\n",
    "        course_set = set(df[df.course_subject_number==course]['student_cid'].values)\n",
    "        \n",
    "        student_set = student_set.intersection(course_set)\n",
    "        len_array.append(len(list(course_set)))\n",
    "    \n",
    "    student_list = list(student_set)\n",
    "    len_array.append(len(student_list))\n",
    "    course_list.append(\"Table Student Count\")\n",
    "    d = {'course':course_list, 'count':len_array}\n",
    "    #count_df = pd.DataFrame(data=d)\n",
    "    count_df = pd.DataFrame(data={'count':len_array}, index=course_list)\n",
    "    count_df.to_excel(writer, sheet_name='Sheet1', startrow = row_counter)\n",
    "    row_counter = row_counter + len(count_df.index) + 2\n",
    "    \n",
    "    #subset df to only those students\n",
    "    st_df = df[df.student_cid.isin(student_list)]\n",
    "    #subset st_df to only those courses\n",
    "    course_df = st_df[st_df.course_subject_number.isin(course_list)]\n",
    "    #select only the first attempts at a class\n",
    "    dupe_mask = course_df.duplicated(subset=['student_cid','course_subject_number'],keep='first')\n",
    "    coursef_df = course_df[~dupe_mask]\n",
    "    \n",
    "    grade_count = coursef_df.groupby(['course_subject_number','grade_con'])['student_cid'].count()\n",
    "    gm_df = grade_count.unstack(level=-1)\n",
    "    \n",
    "    df = format_countdf(gm_df)\n",
    "    df.to_excel(writer, sheet_name='Sheet1', startrow = row_counter)\n",
    "    row_counter = row_counter + len(df.index) + 5\n",
    "    return row_counter"
   ]
  },
  {
   "cell_type": "code",
   "execution_count": 235,
   "metadata": {},
   "outputs": [],
   "source": [
    "def compare_or_grades(df, courseA, course_list,row_counter):\n",
    "    #List of students in listed courses\n",
    "    courseA_set = set(df[df.course_subject_number==courseA]['student_cid'].values)\n",
    "    courseB_set = set(df[df.course_subject_number.isin(course_list)]['student_cid'].values)\n",
    "    student_set = courseA_set.intersection(courseB_set)\n",
    "    len_array = []\n",
    "    #new course list\n",
    "    new_list = [courseA]+course_list\n",
    "    for course in new_list:\n",
    "        len_array.append(df[df.course_subject_number==course]['student_cid'].nunique())\n",
    "    \n",
    "    student_list = list(student_set)\n",
    "    len_array.append(len(student_list))\n",
    "    new_list.append(\"Table Student Count\")\n",
    "    d = {'course':new_list, 'count':len_array}\n",
    "    #count_df = pd.DataFrame(data=d)\n",
    "    count_df = pd.DataFrame(data={'count':len_array}, index=new_list)\n",
    "    count_df.to_excel(writer, sheet_name='Sheet1', startrow = row_counter)\n",
    "    row_counter = row_counter + len(count_df.index) + 2\n",
    "    \n",
    "    #subset df to only those students\n",
    "    st_df = df[df.student_cid.isin(student_list)]\n",
    "    #subset st_df to only those courses\n",
    "    course_df = st_df[st_df.course_subject_number.isin(new_list)]\n",
    "    #select only the first attempts at a class\n",
    "    dupe_mask = course_df.duplicated(subset=['student_cid','course_subject_number'],keep='first')\n",
    "    coursef_df = course_df[~dupe_mask]\n",
    "    \n",
    "    grade_count = coursef_df.groupby(['course_subject_number','grade_con'])['student_cid'].count()\n",
    "    gm_df = grade_count.unstack(level=-1)\n",
    "    \n",
    "    df = format_countdf(gm_df)\n",
    "    df.to_excel(writer, sheet_name='Sheet1', startrow = row_counter)\n",
    "    row_counter = row_counter + len(df.index) + 5\n",
    "    return row_counter"
   ]
  },
  {
   "cell_type": "code",
   "execution_count": 236,
   "metadata": {},
   "outputs": [],
   "source": [
    "def scorebygroup(df, group,row_counter):\n",
    "    score_count = df.groupby([group,'composite'])['student_cid'].count()\n",
    "    sc_df = score_count.unstack(level=-1)\n",
    "    perc_df = sc_df.div(sc_df.sum(axis=1), axis=0)\n",
    "    perc_df.fillna(0,inplace=True)\n",
    "    perc_df = perc_df[['<3','3','>3']]\n",
    "    \n",
    "    perc_df = perc_df.style.format(\"{:.1%}\")\n",
    "\n",
    "    perc_df.to_excel(writer, sheet_name='Sheet1', startrow = row_counter)\n",
    "    row_counter = row_counter + len(perc_df.index) + 5\n",
    "    return row_counter"
   ]
  },
  {
   "cell_type": "markdown",
   "metadata": {},
   "source": [
    "MAT111 and placement test scores"
   ]
  },
  {
   "cell_type": "code",
   "execution_count": 237,
   "metadata": {},
   "outputs": [
    {
     "name": "stdout",
     "output_type": "stream",
     "text": [
      "Count of unique student IDs in MAT111: 4468\n",
      "Count of unique student IDs in MAT111 with placement scores: 4185\n",
      "Count of unique student IDs in MAT111 with score < 3: 862\n"
     ]
    }
   ],
   "source": [
    "#Select students who take MAT111 – get unique count\n",
    "mat111_list = merged_df[merged_df.course_subject_number == 'MAT111']['student_cid'].values\n",
    "take111_df = merged_df[merged_df.student_cid.isin(mat111_list)]\n",
    "print('Count of unique student IDs in MAT111:',take111_df.student_cid.nunique())\n",
    "\n",
    "havescores_df = take111_df[merged_df.composite.notna()]\n",
    "print('Count of unique student IDs in MAT111 with placement scores:',havescores_df.student_cid.nunique())\n",
    "\n",
    "#Select students with composite score less than 3 – get unique count\n",
    "scorelow_df = take111_df[merged_df.composite == '<3']\n",
    "print('Count of unique student IDs in MAT111 with score < 3:',scorelow_df.student_cid.nunique())\n",
    "\n",
    "#Remove repeated classes by selecting only the first\n",
    "dupe_mask = havescores_df.duplicated(subset=['student_cid','course_subject_number'],keep='first')\n",
    "scorelowfirst_df = havescores_df[~dupe_mask]"
   ]
  },
  {
   "cell_type": "code",
   "execution_count": 238,
   "metadata": {},
   "outputs": [],
   "source": [
    "index_array = ['In MAT111','with placement score','with score <3']\n",
    "count_dict = {'count':[take111_df.student_cid.nunique(),havescores_df.student_cid.nunique(),scorelow_df.student_cid.nunique()]}\n",
    "pd.DataFrame(data=count_dict, index=index_array).to_excel(writer, sheet_name='Sheet1', startrow = row_counter)\n",
    "row_counter += 9"
   ]
  },
  {
   "cell_type": "code",
   "execution_count": 239,
   "metadata": {},
   "outputs": [
    {
     "name": "stdout",
     "output_type": "stream",
     "text": [
      "Count of unique student IDs who take MAT105: 199\n",
      "Count of unique student IDs who take MAT105 Readiness Program: 357\n",
      "Count of unique student IDs who are in both: 4\n"
     ]
    }
   ],
   "source": [
    "#Group in single dataframe\n",
    "#List of students who take MAT105\n",
    "mat105_list = scorelowfirst_df[scorelowfirst_df.course_subject_number == 'MAT105']['student_cid'].values\n",
    "group105_df = scorelowfirst_df.copy()\n",
    "group105_df['take105'] = group105_df.student_cid.isin(mat105_list)\n",
    "\n",
    "readiness_list = havescores_df[havescores_df.readiness].student_cid.values\n",
    "#Restrict to MAT111\n",
    "grade111_df = group105_df[group105_df.course_subject_number=='MAT111']\n",
    "print('Count of unique student IDs who take MAT105:',grade111_df[grade111_df.take105].student_cid.nunique())\n",
    "print('Count of unique student IDs who take MAT105 Readiness Program:',havescores_df[havescores_df.readiness].student_cid.nunique())\n",
    "print('Count of unique student IDs who are in both:', len((set(readiness_list)).intersection(set(mat105_list))))"
   ]
  },
  {
   "cell_type": "code",
   "execution_count": 240,
   "metadata": {},
   "outputs": [],
   "source": [
    "take111_df['take105'] = 'None'\n",
    "take111_df.loc[take111_df.student_cid.isin(readiness_list),'take105'] = 'MAT105 Readiness Program'\n",
    "take111_df.loc[take111_df.student_cid.isin(mat105_list),'take105'] = 'MAT105 Class'"
   ]
  },
  {
   "cell_type": "code",
   "execution_count": 241,
   "metadata": {},
   "outputs": [
    {
     "name": "stdout",
     "output_type": "stream",
     "text": [
      "Count of unique student IDs who take MAT105: 199\n",
      "Count of unique student IDs who take MAT105 Readiness Program: 357\n",
      "Count of unique student IDs who are in both: 4\n"
     ]
    }
   ],
   "source": [
    "row_counter = gradebygroup(merged_df, 'take105',row_counter)\n",
    "#perc_df = gradebygroup(merged_df, 'take105')  \n",
    "#display(perc_df)\n",
    "#perc_df.to_excel(writer, sheet_name='Sheet1', startrow = 0)\n",
    "print('Count of unique student IDs who take MAT105:',grade111_df[grade111_df.take105].student_cid.nunique())\n",
    "print('Count of unique student IDs who take MAT105 Readiness Program:',havescores_df[havescores_df.readiness].student_cid.nunique())\n",
    "print('Count of unique student IDs who are in both:', len((set(readiness_list)).intersection(set(mat105_list))))"
   ]
  },
  {
   "cell_type": "code",
   "execution_count": 242,
   "metadata": {},
   "outputs": [],
   "source": [
    "index_array = ['Take MAT105','Take MAT105 Readiness Program','Take Both']\n",
    "count_dict = {'count':[grade111_df[grade111_df.take105].student_cid.nunique(),\n",
    "                       havescores_df[havescores_df.readiness].student_cid.nunique(),\n",
    "                       len((set(readiness_list)).intersection(set(mat105_list)))]}\n",
    "pd.DataFrame(data=count_dict, index=index_array).to_excel(writer, sheet_name='Sheet1', startrow = row_counter)\n",
    "row_counter += 9"
   ]
  },
  {
   "cell_type": "markdown",
   "metadata": {},
   "source": [
    "Previous numbers were from data that included duplicates"
   ]
  },
  {
   "cell_type": "code",
   "execution_count": 243,
   "metadata": {},
   "outputs": [],
   "source": [
    "#diff = set(['A','B','C','D','F','W']) - set(perc_df.columns.values)\n",
    "#list(diff)"
   ]
  },
  {
   "cell_type": "markdown",
   "metadata": {},
   "source": [
    "Compare students who take MAT111 as a prereq to Calc vs MAT111 as a terminal course"
   ]
  },
  {
   "cell_type": "code",
   "execution_count": 244,
   "metadata": {},
   "outputs": [
    {
     "name": "stdout",
     "output_type": "stream",
     "text": [
      "Count of unique student IDs in MAT111: 4468\n",
      "Count of unique student IDs in MAT111 and MAT151: 1069\n"
     ]
    }
   ],
   "source": [
    "#What % of MAT 111 students take 151\n",
    "#Select students who take MAT111 – get unique count\n",
    "mat111_list = merged_df[merged_df.course_subject_number == 'MAT111']['student_cid'].values\n",
    "take111_df = merged_df[merged_df.student_cid.isin(mat111_list)]\n",
    "print('Count of unique student IDs in MAT111:',take111_df.student_cid.nunique())\n",
    "#How many take MAT151\n",
    "mat151_list = take111_df[take111_df.course_subject_number == 'MAT151']['student_cid'].values\n",
    "take151_df = take111_df[take111_df.student_cid.isin(mat151_list)]\n",
    "print('Count of unique student IDs in MAT111 and MAT151:',take151_df.student_cid.nunique())"
   ]
  },
  {
   "cell_type": "code",
   "execution_count": 245,
   "metadata": {},
   "outputs": [],
   "source": [
    "row_counter = compare_or_grades(merged_df, 'MAT111',['MAT141','MAT142'],row_counter)\n",
    "#df_14x = compare_or_grades(merged_df, 'MAT111',['MAT141','MAT142'])\n",
    "#display(df_14x)\n",
    "#df_14x.to_excel(writer, sheet_name='Sheet1', startrow = 10)\n"
   ]
  },
  {
   "cell_type": "code",
   "execution_count": 246,
   "metadata": {},
   "outputs": [],
   "source": [
    "row_counter = compare_or_grades(merged_df, 'MAT111',['STT210','STT215'],row_counter)\n",
    "#df_21x = compare_or_grades(merged_df, 'MAT111',['STT210','STT215'])\n",
    "#display(df_21x)\n",
    "#df_21x.to_excel(writer, sheet_name='Sheet1', startrow = 20)\n"
   ]
  },
  {
   "cell_type": "code",
   "execution_count": 247,
   "metadata": {},
   "outputs": [],
   "source": [
    "row_counter = compare_grades(merged_df, ['MAT111','MAT112','MAT161'],row_counter)\n",
    "#df_161 = compare_grades(merged_df, ['MAT111','MAT112','MAT161'])\n",
    "#df_161.to_excel(writer, sheet_name='Sheet1', startrow = 30)\n",
    "#display(df_161)"
   ]
  },
  {
   "cell_type": "code",
   "execution_count": 248,
   "metadata": {},
   "outputs": [],
   "source": [
    "row_counter = compare_grades(merged_df, ['MAT111','MAT151','MAT161'], row_counter)\n",
    "# df_151_161 = compare_grades(merged_df, ['MAT111','MAT151','MAT161'])\n",
    "# df_151_161.to_excel(writer, sheet_name='Sheet1', startrow = 40)\n",
    "\n",
    "# display(df_151_161)"
   ]
  },
  {
   "cell_type": "code",
   "execution_count": 249,
   "metadata": {},
   "outputs": [],
   "source": [
    "row_counter = compare_grades(merged_df, ['MAT111','MAT151'], row_counter)\n",
    "# df_151 = compare_grades(merged_df, ['MAT111','MAT151'])\n",
    "# df_151.to_excel(writer, sheet_name='Sheet1', startrow = 50)\n",
    "\n",
    "# display(df_151)"
   ]
  },
  {
   "cell_type": "code",
   "execution_count": 250,
   "metadata": {},
   "outputs": [],
   "source": [
    "row_counter = compare_grades(merged_df, ['MAT111'], row_counter)\n",
    "# df_111 = compare_grades(merged_df, ['MAT111'])\n",
    "# df_111.to_excel(writer, sheet_name='Sheet1', startrow = 60)\n",
    "\n",
    "# display(df_111)"
   ]
  },
  {
   "cell_type": "markdown",
   "metadata": {},
   "source": [
    "Metamajor breakdown for MAT111 and placement scores"
   ]
  },
  {
   "cell_type": "code",
   "execution_count": 251,
   "metadata": {},
   "outputs": [],
   "source": [
    "#select MAT 111\n",
    "mat111f_clust = merged_df[merged_df.course_subject_number == 'MAT111']"
   ]
  },
  {
   "cell_type": "code",
   "execution_count": 252,
   "metadata": {},
   "outputs": [],
   "source": [
    "mat111pl_df = mat111f_clust[mat111f_clust.composite.notna()]"
   ]
  },
  {
   "cell_type": "code",
   "execution_count": 253,
   "metadata": {},
   "outputs": [
    {
     "data": {
      "text/plain": [
       "CHHS                 995\n",
       "STEM                 879\n",
       "Business             785\n",
       "Undecided/Unknown    683\n",
       "Social Sciences      656\n",
       "Arts/Humanities      347\n",
       "Education            123\n",
       "Name: meta_major, dtype: int64"
      ]
     },
     "execution_count": 253,
     "metadata": {},
     "output_type": "execute_result"
    }
   ],
   "source": [
    "clust_count = mat111f_clust.meta_major.value_counts()\n",
    "clust_count"
   ]
  },
  {
   "cell_type": "code",
   "execution_count": 254,
   "metadata": {},
   "outputs": [
    {
     "data": {
      "text/plain": [
       "<matplotlib.axes._subplots.AxesSubplot at 0x1fb9736ea20>"
      ]
     },
     "execution_count": 254,
     "metadata": {},
     "output_type": "execute_result"
    },
    {
     "data": {
      "image/png": "[encoded data removed]",
      "text/plain": [
       "<Figure size 576x576 with 1 Axes>"
      ]
     },
     "metadata": {},
     "output_type": "display_data"
    }
   ],
   "source": [
    "clust_count.plot(kind='pie', title='Percentage of MAT 111 Students by degree cluster', figsize=[8,8],\n",
    "          autopct='%1.1f%%',startangle=30)"
   ]
  },
  {
   "cell_type": "code",
   "execution_count": 255,
   "metadata": {},
   "outputs": [],
   "source": [
    "row_counter = gradebygroup(mat111f_clust, 'meta_major', row_counter)\n",
    "# clust_grade = gradebygroup(mat111f_clust, 'meta_major')\n",
    "# clust_grade.to_excel(writer, sheet_name='Sheet1', startrow = 70)\n",
    "\n",
    "# display(clust_grade)"
   ]
  },
  {
   "cell_type": "code",
   "execution_count": 256,
   "metadata": {},
   "outputs": [],
   "source": [
    "row_counter = scorebygroup(mat111pl_df, 'meta_major', row_counter)\n",
    "# clust_score = scorebygroup(mat111pl_df, 'meta_major')\n",
    "# clust_score.to_excel(writer, sheet_name='Sheet1', startrow = 80)\n",
    "\n",
    "# display(clust_score)"
   ]
  },
  {
   "cell_type": "code",
   "execution_count": 257,
   "metadata": {},
   "outputs": [
    {
     "data": {
      "text/plain": [
       "meta_major\n",
       "Arts/Humanities      36\n",
       "Business             44\n",
       "CHHS                 72\n",
       "Education             8\n",
       "STEM                 49\n",
       "Social Sciences      45\n",
       "Undecided/Unknown    29\n",
       "Name: meta_major, dtype: int64"
      ]
     },
     "execution_count": 257,
     "metadata": {},
     "output_type": "execute_result"
    }
   ],
   "source": [
    "#number of students without placement scores for each major\n",
    "mat111f_clust[mat111f_clust.composite.isnull()].groupby('meta_major')['meta_major'].count()"
   ]
  },
  {
   "cell_type": "code",
   "execution_count": 258,
   "metadata": {},
   "outputs": [
    {
     "data": {
      "text/plain": [
       "meta_major\n",
       "Arts/Humanities      311\n",
       "Business             741\n",
       "CHHS                 923\n",
       "Education            115\n",
       "STEM                 830\n",
       "Social Sciences      611\n",
       "Undecided/Unknown    654\n",
       "Name: meta_major, dtype: int64"
      ]
     },
     "execution_count": 258,
     "metadata": {},
     "output_type": "execute_result"
    }
   ],
   "source": [
    "#number of students with placement scores for each major\n",
    "mat111pl_df.groupby('meta_major')['meta_major'].count()"
   ]
  },
  {
   "cell_type": "markdown",
   "metadata": {},
   "source": [
    "Compare MAT111 grades for those that go on to 151, 161, or other"
   ]
  },
  {
   "cell_type": "code",
   "execution_count": 259,
   "metadata": {},
   "outputs": [],
   "source": [
    "#mat 151 list\n",
    "only151_list = list(set(merged_df[merged_df.Calculus=='MAT151'].student_cid.values))\n",
    "#mat 161 list\n",
    "mat161_list = list(set(merged_df[merged_df.Calculus=='MAT161'].student_cid.values))\n",
    "#no calc list\n",
    "nocalc_list = list(set(merged_df[merged_df.Calculus=='No Calculus'].student_cid.values))"
   ]
  },
  {
   "cell_type": "code",
   "execution_count": 260,
   "metadata": {},
   "outputs": [
    {
     "data": {
      "image/png": "[encoded data removed]",
      "text/plain": [
       "<Figure size 432x288 with 1 Axes>"
      ]
     },
     "metadata": {},
     "output_type": "display_data"
    }
   ],
   "source": [
    "cat_len = np.array([len(only151_list),len(mat161_list),len(nocalc_list)])\n",
    "labels = ['MAT151','MAT161','No Calculus']\n",
    "fig1, ax1 = plt.subplots()\n",
    "ax1.pie(cat_len, labels=labels, autopct='%1.1f%%', startangle=90)\n",
    "ax1.axis('equal')  # Equal aspect ratio ensures that pie is drawn as a circle.\n",
    "\n",
    "plt.show()"
   ]
  },
  {
   "cell_type": "code",
   "execution_count": 261,
   "metadata": {},
   "outputs": [],
   "source": [
    "grade_count = mat111f_clust.groupby(['Calculus','grade'])['student_cid'].count()\n",
    "gm_df = grade_count.unstack(level=-1)\n",
    "pd.set_option('precision', 1)\n",
    "perc_df = gm_df.div(gm_df.sum(axis=1), axis=0)*100\n"
   ]
  },
  {
   "cell_type": "code",
   "execution_count": 262,
   "metadata": {},
   "outputs": [],
   "source": [
    "row_counter = gradebygroup(mat111f_clust, 'Calculus',row_counter)\n",
    "# perc_df = gradebygroup(mat111f_clust, 'Calculus')  \n",
    "# perc_df.to_excel(writer, sheet_name='Sheet1', startrow = 90)\n",
    "\n",
    "# perc_df"
   ]
  },
  {
   "cell_type": "code",
   "execution_count": 263,
   "metadata": {
    "scrolled": true
   },
   "outputs": [],
   "source": [
    "row_counter = scorebygroup(mat111f_clust, 'Calculus', row_counter)\n",
    "# clust_score = scorebygroup(mat111f_clust, 'Calculus')\n",
    "# clust_score.to_excel(writer, sheet_name='Sheet1', startrow = 100)\n",
    "\n",
    "# display(clust_score)"
   ]
  },
  {
   "cell_type": "markdown",
   "metadata": {},
   "source": [
    "Number of Repeats of MAT111"
   ]
  },
  {
   "cell_type": "code",
   "execution_count": 264,
   "metadata": {},
   "outputs": [
    {
     "data": {
      "text/plain": [
       "1    4154\n",
       "2     291\n",
       "3      23\n",
       "Name: student_cid, dtype: int64"
      ]
     },
     "execution_count": 264,
     "metadata": {},
     "output_type": "execute_result"
    }
   ],
   "source": [
    "#Number of repeats of MAT 111\n",
    "dup_df = pd.read_csv(\"duplicatesdf.csv\")\n",
    "all_mat111 = dup_df[dup_df.course_subject_number == 'MAT111']\n",
    "all_mat111.student_cid.value_counts().value_counts()"
   ]
  },
  {
   "cell_type": "code",
   "execution_count": 265,
   "metadata": {},
   "outputs": [
    {
     "data": {
      "text/plain": [
       "4468"
      ]
     },
     "execution_count": 265,
     "metadata": {},
     "output_type": "execute_result"
    }
   ],
   "source": [
    "all_mat111.student_cid.nunique()"
   ]
  },
  {
   "cell_type": "code",
   "execution_count": 266,
   "metadata": {},
   "outputs": [],
   "source": [
    "id802 = np.load('repID802.npy')"
   ]
  },
  {
   "cell_type": "code",
   "execution_count": 267,
   "metadata": {},
   "outputs": [],
   "source": [
    "repeat_ids = all_mat111.student_cid.value_counts()"
   ]
  },
  {
   "cell_type": "code",
   "execution_count": 268,
   "metadata": {},
   "outputs": [],
   "source": [
    "repid_array = repeat_ids[repeat_ids == 2].index.values"
   ]
  },
  {
   "cell_type": "code",
   "execution_count": 269,
   "metadata": {},
   "outputs": [],
   "source": [
    "repid3_array = repeat_ids[repeat_ids == 3].index.values"
   ]
  },
  {
   "cell_type": "code",
   "execution_count": 270,
   "metadata": {},
   "outputs": [],
   "source": [
    "id_diff = list(set(id802) - set(repid_array))"
   ]
  },
  {
   "cell_type": "code",
   "execution_count": 271,
   "metadata": {},
   "outputs": [],
   "source": [
    "#all_mat111[all_mat111.student_cid.isin(repid3_array)].sort_values(by='student_cid')"
   ]
  },
  {
   "cell_type": "code",
   "execution_count": 272,
   "metadata": {},
   "outputs": [],
   "source": [
    "#merged_df.info()"
   ]
  },
  {
   "cell_type": "code",
   "execution_count": 273,
   "metadata": {},
   "outputs": [],
   "source": [
    "#MAT111 repeats by category\n",
    "#MAT151 students\n",
    "all_111_151 = all_mat111[all_mat111.student_cid.isin(only151_list)]\n",
    "rep_151 = all_111_151.student_cid.value_counts().value_counts()\n",
    "#MAT161 students\n",
    "all_111_161 = all_mat111[all_mat111.student_cid.isin(mat161_list)]\n",
    "rep_161 = all_111_161.student_cid.value_counts().value_counts()\n",
    "#No Calculus students\n",
    "#MAT151 students\n",
    "all_111_no = all_mat111[all_mat111.student_cid.isin(nocalc_list)]\n",
    "rep_nocalc = all_111_no.student_cid.value_counts().value_counts()\n"
   ]
  },
  {
   "cell_type": "code",
   "execution_count": null,
   "metadata": {},
   "outputs": [],
   "source": []
  },
  {
   "cell_type": "code",
   "execution_count": 274,
   "metadata": {},
   "outputs": [
    {
     "name": "stdout",
     "output_type": "stream",
     "text": [
      "MAT151\n",
      " 1    1005\n",
      "2      48\n",
      "3       2\n",
      "Name: student_cid, dtype: int64 \n",
      "\n",
      "MAT161\n",
      " 1    78\n",
      "2     4\n",
      "Name: student_cid, dtype: int64 \n",
      "\n",
      "No Calculus\n",
      " 1    3071\n",
      "2     239\n",
      "3      21\n",
      "Name: student_cid, dtype: int64\n"
     ]
    }
   ],
   "source": [
    "print('MAT151\\n',rep_151,'\\n')\n",
    "print('MAT161\\n',rep_161,'\\n')\n",
    "print('No Calculus\\n',rep_nocalc)"
   ]
  },
  {
   "cell_type": "code",
   "execution_count": 275,
   "metadata": {},
   "outputs": [
    {
     "data": {
      "text/html": [
       "<div>\n",
       "<style scoped>\n",
       "    .dataframe tbody tr th:only-of-type {\n",
       "        vertical-align: middle;\n",
       "    }\n",
       "\n",
       "    .dataframe tbody tr th {\n",
       "        vertical-align: top;\n",
       "    }\n",
       "\n",
       "    .dataframe thead th {\n",
       "        text-align: right;\n",
       "    }\n",
       "</style>\n",
       "<table border=\"1\" class=\"dataframe\">\n",
       "  <thead>\n",
       "    <tr style=\"text-align: right;\">\n",
       "      <th></th>\n",
       "      <th>Unnamed: 0</th>\n",
       "      <th>Unnamed: 0_x</th>\n",
       "      <th>snapshot_term_code</th>\n",
       "      <th>snapshot_name</th>\n",
       "      <th>exclude_from_ipeds_cai_flag</th>\n",
       "      <th>crn_id</th>\n",
       "      <th>student_cid</th>\n",
       "      <th>repeat_indicator</th>\n",
       "      <th>course_subject_code</th>\n",
       "      <th>course_number</th>\n",
       "      <th>...</th>\n",
       "      <th>studentID</th>\n",
       "      <th>testdate</th>\n",
       "      <th>readiness</th>\n",
       "      <th>composite</th>\n",
       "      <th>major</th>\n",
       "      <th>meta_major</th>\n",
       "      <th>Calculus</th>\n",
       "      <th>grade_con</th>\n",
       "      <th>term_order</th>\n",
       "      <th>take105</th>\n",
       "    </tr>\n",
       "  </thead>\n",
       "  <tbody>\n",
       "    <tr>\n",
       "      <th>843</th>\n",
       "      <td>812</td>\n",
       "      <td>812</td>\n",
       "      <td>20181</td>\n",
       "      <td>Spring 2018 Post-Grades</td>\n",
       "      <td>N</td>\n",
       "      <td>20116.0</td>\n",
       "      <td>850398954</td>\n",
       "      <td>NaN</td>\n",
       "      <td>MAT</td>\n",
       "      <td>152.0</td>\n",
       "      <td>...</td>\n",
       "      <td>8.5e+08</td>\n",
       "      <td>1.4e+18</td>\n",
       "      <td>False</td>\n",
       "      <td>3</td>\n",
       "      <td>Geology</td>\n",
       "      <td>STEM</td>\n",
       "      <td>MAT151</td>\n",
       "      <td>C</td>\n",
       "      <td>20181</td>\n",
       "      <td>None</td>\n",
       "    </tr>\n",
       "    <tr>\n",
       "      <th>2584</th>\n",
       "      <td>2424</td>\n",
       "      <td>2424</td>\n",
       "      <td>20171</td>\n",
       "      <td>Spring 2017 Post-Grades</td>\n",
       "      <td>N</td>\n",
       "      <td>20116.0</td>\n",
       "      <td>850409472</td>\n",
       "      <td>NaN</td>\n",
       "      <td>MAT</td>\n",
       "      <td>152.0</td>\n",
       "      <td>...</td>\n",
       "      <td>8.5e+08</td>\n",
       "      <td>1.4e+18</td>\n",
       "      <td>False</td>\n",
       "      <td>&gt;3</td>\n",
       "      <td>Isaac Bear Early College</td>\n",
       "      <td>Undecided/Unknown</td>\n",
       "      <td>MAT161</td>\n",
       "      <td>A</td>\n",
       "      <td>20171</td>\n",
       "      <td>None</td>\n",
       "    </tr>\n",
       "    <tr>\n",
       "      <th>4796</th>\n",
       "      <td>4560</td>\n",
       "      <td>4560</td>\n",
       "      <td>20181</td>\n",
       "      <td>Spring 2018 Post-Grades</td>\n",
       "      <td>N</td>\n",
       "      <td>20116.0</td>\n",
       "      <td>850427411</td>\n",
       "      <td>NaN</td>\n",
       "      <td>MAT</td>\n",
       "      <td>152.0</td>\n",
       "      <td>...</td>\n",
       "      <td>NaN</td>\n",
       "      <td>NaN</td>\n",
       "      <td>NaN</td>\n",
       "      <td>NaN</td>\n",
       "      <td>Oceanography</td>\n",
       "      <td>STEM</td>\n",
       "      <td>MAT151</td>\n",
       "      <td>A</td>\n",
       "      <td>20181</td>\n",
       "      <td>None</td>\n",
       "    </tr>\n",
       "  </tbody>\n",
       "</table>\n",
       "<p>3 rows × 43 columns</p>\n",
       "</div>"
      ],
      "text/plain": [
       "      Unnamed: 0  Unnamed: 0_x  snapshot_term_code            snapshot_name  \\\n",
       "843          812           812               20181  Spring 2018 Post-Grades   \n",
       "2584        2424          2424               20171  Spring 2017 Post-Grades   \n",
       "4796        4560          4560               20181  Spring 2018 Post-Grades   \n",
       "\n",
       "     exclude_from_ipeds_cai_flag   crn_id  student_cid repeat_indicator  \\\n",
       "843                            N  20116.0    850398954              NaN   \n",
       "2584                           N  20116.0    850409472              NaN   \n",
       "4796                           N  20116.0    850427411              NaN   \n",
       "\n",
       "     course_subject_code  course_number  ... studentID  testdate readiness  \\\n",
       "843                  MAT          152.0  ...   8.5e+08   1.4e+18     False   \n",
       "2584                 MAT          152.0  ...   8.5e+08   1.4e+18     False   \n",
       "4796                 MAT          152.0  ...       NaN       NaN       NaN   \n",
       "\n",
       "     composite                     major         meta_major Calculus  \\\n",
       "843          3                   Geology               STEM   MAT151   \n",
       "2584        >3  Isaac Bear Early College  Undecided/Unknown   MAT161   \n",
       "4796       NaN              Oceanography               STEM   MAT151   \n",
       "\n",
       "     grade_con term_order take105  \n",
       "843          C      20181    None  \n",
       "2584         A      20171    None  \n",
       "4796         A      20181    None  \n",
       "\n",
       "[3 rows x 43 columns]"
      ]
     },
     "execution_count": 275,
     "metadata": {},
     "output_type": "execute_result"
    }
   ],
   "source": [
    "merged_df[merged_df.course_number == 152]"
   ]
  },
  {
   "cell_type": "code",
   "execution_count": 276,
   "metadata": {},
   "outputs": [
    {
     "data": {
      "text/plain": [
       "MAT111     4468\n",
       "MAT151     1069\n",
       "BAN 280     504\n",
       "STT215      439\n",
       "MAT112      251\n",
       "MAT105      200\n",
       "PSY 225     198\n",
       "STT210       87\n",
       "MAT161       79\n",
       "MAT141       53\n",
       "MAT162       49\n",
       "MAT101       36\n",
       "MAT142       19\n",
       "PBH 299      14\n",
       "MAT261        9\n",
       "STT305        6\n",
       "MAT335        6\n",
       "MAT115        4\n",
       "MAT245        3\n",
       "MAT152        3\n",
       "MAT275        2\n",
       "STT315        2\n",
       "MAT296        2\n",
       "STT350        2\n",
       "MAT361        1\n",
       "STT412        1\n",
       "MAT336        1\n",
       "MAT321        1\n",
       "STT425        1\n",
       "Name: course_subject_number, dtype: int64"
      ]
     },
     "execution_count": 276,
     "metadata": {},
     "output_type": "execute_result"
    }
   ],
   "source": [
    "merged_df.course_subject_number.value_counts()"
   ]
  },
  {
   "cell_type": "code",
   "execution_count": 277,
   "metadata": {},
   "outputs": [],
   "source": [
    "mat111f_clust.major.value_counts().head(10).to_excel(writer, sheet_name='Sheet1', startrow = row_counter)\n",
    "row_counter += 15"
   ]
  },
  {
   "cell_type": "code",
   "execution_count": 278,
   "metadata": {},
   "outputs": [],
   "source": [
    "new_count_df = pd.read_csv('nonmathcount.csv', header=None, names=['Course','Count'],index_col=0)\n",
    "new_count_df.to_excel(writer, sheet_name='Sheet1', startrow = row_counter)"
   ]
  },
  {
   "cell_type": "code",
   "execution_count": 279,
   "metadata": {},
   "outputs": [],
   "source": [
    "writer.save()"
   ]
  },
  {
   "cell_type": "code",
   "execution_count": null,
   "metadata": {},
   "outputs": [],
   "source": []
  }
 ],
 "metadata": {
  "kernelspec": {
   "display_name": "Python 3",
   "language": "python",
   "name": "python3"
  },
  "language_info": {
   "codemirror_mode": {
    "name": "ipython",
    "version": 3
   },
   "file_extension": ".py",
   "mimetype": "text/x-python",
   "name": "python",
   "nbconvert_exporter": "python",
   "pygments_lexer": "ipython3",
   "version": "3.6.5"
  }
 },
 "nbformat": 4,
 "nbformat_minor": 2
}
